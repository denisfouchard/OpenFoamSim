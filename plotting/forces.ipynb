{
 "cells": [
  {
   "cell_type": "code",
   "execution_count": 39,
   "metadata": {},
   "outputs": [],
   "source": [
    "import numpy as np\n",
    "import matplotlib.pyplot as plt\n",
    "import pandas as pd\n",
    "from typing import Iterable\n",
    "\n",
    "FORCES_FILE = \"force_hole.dat\"\n",
    "BASELINE_FILE = \"force_baseline.dat\""
   ]
  },
  {
   "cell_type": "code",
   "execution_count": 40,
   "metadata": {},
   "outputs": [
    {
     "name": "stderr",
     "output_type": "stream",
     "text": [
      "/var/folders/0k/b57mm7p92n705vxsd5p1t6gc0000gn/T/ipykernel_35809/763491407.py:1: FutureWarning: The 'delim_whitespace' keyword in pd.read_csv is deprecated and will be removed in a future version. Use ``sep='\\s+'`` instead\n",
      "  data = pd.read_csv(\n",
      "/var/folders/0k/b57mm7p92n705vxsd5p1t6gc0000gn/T/ipykernel_35809/763491407.py:23: FutureWarning: The 'delim_whitespace' keyword in pd.read_csv is deprecated and will be removed in a future version. Use ``sep='\\s+'`` instead\n",
      "  baseline = pd.read_csv(\n"
     ]
    }
   ],
   "source": [
    "data = pd.read_csv(\n",
    "    FORCES_FILE,\n",
    "    delim_whitespace=True,  # Handles the spacing between columns\n",
    "    comment=\"#\",  # Ignores lines starting with '#'\n",
    "    header=None,  # No header in the data\n",
    "    names=[\n",
    "        \"Time\",\n",
    "        \"total_x\",\n",
    "        \"total_y\",\n",
    "        \"total_z\",\n",
    "        \"pressure_x\",\n",
    "        \"pressure_y\",\n",
    "        \"pressure_z\",\n",
    "        \"viscous_x\",\n",
    "        \"viscous_y\",\n",
    "        \"viscous_z\",\n",
    "    ],  # Assign meaningful column names\n",
    ")\n",
    "\n",
    "# Parse the str to float\n",
    "data = data.apply(pd.to_numeric, errors=\"coerce\")\n",
    "\n",
    "baseline = pd.read_csv(\n",
    "    BASELINE_FILE,\n",
    "    delim_whitespace=True,  # Handles the spacing between columns\n",
    "    comment=\"#\",  # Ignores lines starting with '#'\n",
    "    header=None,  # No header in the data\n",
    "    names=[\n",
    "        \"Time\",\n",
    "        \"total_x\",\n",
    "        \"total_y\",\n",
    "        \"total_z\",\n",
    "        \"pressure_x\",\n",
    "        \"pressure_y\",\n",
    "        \"pressure_z\",\n",
    "        \"viscous_x\",\n",
    "        \"viscous_y\",\n",
    "        \"viscous_z\",\n",
    "    ],  # Assign meaningful column names\n",
    ")\n",
    "\n",
    "\n",
    "# Parse the str to float\n",
    "baseline = baseline.apply(pd.to_numeric, errors=\"coerce\")"
   ]
  },
  {
   "cell_type": "code",
   "execution_count": 41,
   "metadata": {},
   "outputs": [
    {
     "data": {
      "text/html": [
       "<div>\n",
       "<style scoped>\n",
       "    .dataframe tbody tr th:only-of-type {\n",
       "        vertical-align: middle;\n",
       "    }\n",
       "\n",
       "    .dataframe tbody tr th {\n",
       "        vertical-align: top;\n",
       "    }\n",
       "\n",
       "    .dataframe thead th {\n",
       "        text-align: right;\n",
       "    }\n",
       "</style>\n",
       "<table border=\"1\" class=\"dataframe\">\n",
       "  <thead>\n",
       "    <tr style=\"text-align: right;\">\n",
       "      <th></th>\n",
       "      <th>Time</th>\n",
       "      <th>total_x</th>\n",
       "      <th>total_y</th>\n",
       "      <th>total_z</th>\n",
       "      <th>pressure_x</th>\n",
       "      <th>pressure_y</th>\n",
       "      <th>pressure_z</th>\n",
       "      <th>viscous_x</th>\n",
       "      <th>viscous_y</th>\n",
       "      <th>viscous_z</th>\n",
       "    </tr>\n",
       "  </thead>\n",
       "  <tbody>\n",
       "    <tr>\n",
       "      <th>0</th>\n",
       "      <td>NaN</td>\n",
       "      <td>NaN</td>\n",
       "      <td>NaN</td>\n",
       "      <td>NaN</td>\n",
       "      <td>NaN</td>\n",
       "      <td>NaN</td>\n",
       "      <td>NaN</td>\n",
       "      <td>NaN</td>\n",
       "      <td>NaN</td>\n",
       "      <td>NaN</td>\n",
       "    </tr>\n",
       "    <tr>\n",
       "      <th>1</th>\n",
       "      <td>1.0</td>\n",
       "      <td>108.11200</td>\n",
       "      <td>0.004749</td>\n",
       "      <td>17.960570</td>\n",
       "      <td>107.89090</td>\n",
       "      <td>0.004744</td>\n",
       "      <td>17.961860</td>\n",
       "      <td>0.221100</td>\n",
       "      <td>0.000004</td>\n",
       "      <td>-0.001284</td>\n",
       "    </tr>\n",
       "    <tr>\n",
       "      <th>2</th>\n",
       "      <td>2.0</td>\n",
       "      <td>25.10707</td>\n",
       "      <td>0.033456</td>\n",
       "      <td>4.876285</td>\n",
       "      <td>29.94374</td>\n",
       "      <td>0.033024</td>\n",
       "      <td>4.987972</td>\n",
       "      <td>-4.836669</td>\n",
       "      <td>0.000432</td>\n",
       "      <td>-0.111686</td>\n",
       "    </tr>\n",
       "    <tr>\n",
       "      <th>3</th>\n",
       "      <td>3.0</td>\n",
       "      <td>164.75460</td>\n",
       "      <td>0.473851</td>\n",
       "      <td>-4.661672</td>\n",
       "      <td>165.74400</td>\n",
       "      <td>0.472734</td>\n",
       "      <td>-4.573076</td>\n",
       "      <td>-0.989376</td>\n",
       "      <td>0.001118</td>\n",
       "      <td>-0.088596</td>\n",
       "    </tr>\n",
       "    <tr>\n",
       "      <th>4</th>\n",
       "      <td>4.0</td>\n",
       "      <td>28.55351</td>\n",
       "      <td>0.267226</td>\n",
       "      <td>-16.218000</td>\n",
       "      <td>28.83784</td>\n",
       "      <td>0.267581</td>\n",
       "      <td>-16.195190</td>\n",
       "      <td>-0.284330</td>\n",
       "      <td>-0.000355</td>\n",
       "      <td>-0.022813</td>\n",
       "    </tr>\n",
       "  </tbody>\n",
       "</table>\n",
       "</div>"
      ],
      "text/plain": [
       "   Time    total_x   total_y    total_z  pressure_x  pressure_y  pressure_z  \\\n",
       "0   NaN        NaN       NaN        NaN         NaN         NaN         NaN   \n",
       "1   1.0  108.11200  0.004749  17.960570   107.89090    0.004744   17.961860   \n",
       "2   2.0   25.10707  0.033456   4.876285    29.94374    0.033024    4.987972   \n",
       "3   3.0  164.75460  0.473851  -4.661672   165.74400    0.472734   -4.573076   \n",
       "4   4.0   28.55351  0.267226 -16.218000    28.83784    0.267581  -16.195190   \n",
       "\n",
       "   viscous_x  viscous_y  viscous_z  \n",
       "0        NaN        NaN        NaN  \n",
       "1   0.221100   0.000004  -0.001284  \n",
       "2  -4.836669   0.000432  -0.111686  \n",
       "3  -0.989376   0.001118  -0.088596  \n",
       "4  -0.284330  -0.000355  -0.022813  "
      ]
     },
     "execution_count": 41,
     "metadata": {},
     "output_type": "execute_result"
    }
   ],
   "source": [
    "data.head()"
   ]
  },
  {
   "cell_type": "markdown",
   "metadata": {},
   "source": [
    "## Computing the drag coefficient\n",
    "\n",
    "The formula linking the drag force to the drag coefficient is given by:\n",
    "\n",
    "$$F_d = \\frac{1}{2} \\rho v^2 A C_d$$\n",
    "\n",
    "where:\n",
    "- $F_d$ is the drag force,\n",
    "- $\\rho$ is the air density,\n",
    "- $v$ is the velocity of the object,\n",
    "- $A$ is the reference area,\n",
    "- $C_d$ is the drag coefficient.\n",
    "\n",
    "From this formula, we can deduce the drag coefficient as:\n",
    "\n",
    "$$C_d = \\frac{2 F_d}{\\rho v^2 A}$$\n",
    "\n"
   ]
  },
  {
   "cell_type": "markdown",
   "metadata": {},
   "source": [
    "### Experiments settings \n",
    "- $v=14m/s$\n",
    "- We took $\\rho = 1.225$"
   ]
  },
  {
   "cell_type": "code",
   "execution_count": 42,
   "metadata": {},
   "outputs": [],
   "source": [
    "def drag_coeff(\n",
    "    F_total: Iterable[float], rho: float, U_speed: float, S_area: float\n",
    ") -> Iterable[float]:\n",
    "    \"\"\"\n",
    "    Calculate the drag coefficient from the sum of forces in the x-direction.\n",
    "\n",
    "    Parameters\n",
    "    ----------\n",
    "    force_sum : Iterable[float]\n",
    "        Sum of forces in the x-direction.\n",
    "    rho : float\n",
    "        Density of the fluid.\n",
    "    U_speed : float\n",
    "        Speed of the fluid.\n",
    "    area : float\n",
    "        Area of the object.\n",
    "\n",
    "    Returns\n",
    "    -------\n",
    "    Iterable[float]\n",
    "        Drag coefficient.\n",
    "    \"\"\"\n",
    "    return 2 * F_total / (rho * U_speed**2 * S_area)"
   ]
  },
  {
   "cell_type": "code",
   "execution_count": 43,
   "metadata": {},
   "outputs": [
    {
     "data": {
      "text/plain": [
       "2001"
      ]
     },
     "execution_count": 43,
     "metadata": {},
     "output_type": "execute_result"
    }
   ],
   "source": [
    "len(baseline[\"Time\"])"
   ]
  },
  {
   "cell_type": "code",
   "execution_count": 44,
   "metadata": {},
   "outputs": [
    {
     "data": {
      "image/png": "[encoded data removed]",
      "text/plain": [
       "<Figure size 640x480 with 1 Axes>"
      ]
     },
     "metadata": {},
     "output_type": "display_data"
    }
   ],
   "source": [
    "t_0 = 20\n",
    "time = data[\"Time\"][100:200]\n",
    "force_drag = data[\"total_x\"][400:500]\n",
    "baseline_drag = baseline[\"total_x\"][500:600]\n",
    "force_drag = np.abs(force_drag)\n",
    "baseline_drag = np.abs(baseline_drag)\n",
    "rho = 1.225\n",
    "U_speed = 14.0\n",
    "A = 0.0105861\n",
    "A_baseline = 0.0127684\n",
    "cd = drag_coeff(force_drag, rho, U_speed, A)\n",
    "baseline_cd = drag_coeff(baseline_drag, rho, U_speed, A_baseline)\n",
    "mean_cd = np.mean(cd)\n",
    "median_cd = np.median(cd)\n",
    "\n",
    "# Plot the data\n",
    "plt.plot(time, cd)\n",
    "plt.plot(time, baseline_cd)\n",
    "plt.xlabel(\"Steps\")\n",
    "plt.ylabel(\"Drag Coefficient [-]\")\n",
    "plt.title(\"Drag Coefficient vs Time - AhmedBetterHole\")\n",
    "# Add a horizontal line for the mean drag coefficient\n",
    "plt.axhline(mean_cd, color=\"red\", linestyle=\"--\", label=f\"Mean Cd = {mean_cd:.2f}\")\n",
    "plt.axhline(\n",
    "    median_cd, color=\"green\", linestyle=\"--\", label=f\"Median Cd = {median_cd:.2f}\"\n",
    ")\n",
    "plt.legend()\n",
    "# Add legend for baseline and current drag coefficient\n",
    "# Add legend with the mean drag coefficient\n",
    "plt.grid()"
   ]
  }
 ],
 "metadata": {
  "kernelspec": {
   "display_name": "base",
   "language": "python",
   "name": "python3"
  },
  "language_info": {
   "codemirror_mode": {
    "name": "ipython",
    "version": 3
   },
   "file_extension": ".py",
   "mimetype": "text/x-python",
   "name": "python",
   "nbconvert_exporter": "python",
   "pygments_lexer": "ipython3",
   "version": "3.12.2"
  }
 },
 "nbformat": 4,
 "nbformat_minor": 2
}
